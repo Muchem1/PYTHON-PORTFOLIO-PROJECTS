{
 "cells": [
  {
   "cell_type": "code",
   "execution_count": null,
   "id": "76fba111",
   "metadata": {},
   "outputs": [],
   "source": [
    "#DATA VISUALIZATION\n",
    "\n",
    "import pandas as pd\n",
    "import matplotlib.pyplot as plt\n",
    "import seaborn as sns\n",
    "import numpy as np"
   ]
  },
  {
   "cell_type": "code",
   "execution_count": null,
   "id": "e7a91f7e",
   "metadata": {},
   "outputs": [],
   "source": [
    "housing = pd.read_csv(r\"C:\\Users\\MUCHEMI\\\\Documents\\Pandas Folder\\real_estate.csv\", encoding = \"ISO-8859-1\")\n",
    "housing"
   ]
  },
  {
   "cell_type": "code",
   "execution_count": null,
   "id": "0402bf86",
   "metadata": {},
   "outputs": [],
   "source": [
    "# Filter the dataframe to include only houses with less than 10 bedrooms\n",
    "filtered_df = housing[housing['bed'] < 10]\n",
    "\n",
    "# Create the bar plot\n",
    "sns.barplot(x='bed', y='price', data=filtered_df, estimator=np.mean)\n",
    "\n",
    "# Set the plot labels and title\n",
    "plt.xlabel('Number of Bedrooms')\n",
    "plt.ylabel('Average Price')\n",
    "plt.title('Bar Plot: Average Price for Houses with Less than 10 Bedrooms')\n",
    "\n",
    "# Remove the \"1e6\" from the top of the visualization\n",
    "plt.ticklabel_format(style='plain', axis='y')\n",
    "\n",
    "# Display the plot\n",
    "plt.show()\n"
   ]
  },
  {
   "cell_type": "code",
   "execution_count": null,
   "id": "e24b1105",
   "metadata": {},
   "outputs": [],
   "source": [
    "filtered_df = housing[housing['house_size'] < 10000]\n",
    "sns.regplot(x='house_size', y='price', data=filtered_df,line_kws={'color': 'red'})\n",
    "plt.xlabel('House Size')\n",
    "plt.ylabel('Price')\n",
    "plt.title('Scatter Plot with Regression Line: House Size vs. Price')\n",
    "\n",
    "# Remove the \"1e6\" from the top of the visualization\n",
    "plt.ticklabel_format(style='plain', axis='y')\n",
    "\n",
    "plt.show()"
   ]
  },
  {
   "cell_type": "code",
   "execution_count": null,
   "id": "95ae2a47",
   "metadata": {},
   "outputs": [],
   "source": []
  },
  {
   "cell_type": "code",
   "execution_count": null,
   "id": "888edbe2",
   "metadata": {},
   "outputs": [],
   "source": []
  },
  {
   "cell_type": "code",
   "execution_count": null,
   "id": "1475ad80",
   "metadata": {},
   "outputs": [],
   "source": []
  },
  {
   "cell_type": "code",
   "execution_count": null,
   "id": "dca1e372",
   "metadata": {},
   "outputs": [],
   "source": []
  },
  {
   "cell_type": "code",
   "execution_count": null,
   "id": "e1a7976a",
   "metadata": {},
   "outputs": [],
   "source": []
  },
  {
   "cell_type": "code",
   "execution_count": null,
   "id": "a9a0419d",
   "metadata": {},
   "outputs": [],
   "source": []
  },
  {
   "cell_type": "code",
   "execution_count": null,
   "id": "06b968ae",
   "metadata": {},
   "outputs": [],
   "source": []
  },
  {
   "cell_type": "code",
   "execution_count": null,
   "id": "234ca577",
   "metadata": {},
   "outputs": [],
   "source": []
  }
 ],
 "metadata": {
  "kernelspec": {
   "display_name": "Python 3 (ipykernel)",
   "language": "python",
   "name": "python3"
  },
  "language_info": {
   "codemirror_mode": {
    "name": "ipython",
    "version": 3
   },
   "file_extension": ".py",
   "mimetype": "text/x-python",
   "name": "python",
   "nbconvert_exporter": "python",
   "pygments_lexer": "ipython3",
   "version": "3.9.13"
  }
 },
 "nbformat": 4,
 "nbformat_minor": 5
}
